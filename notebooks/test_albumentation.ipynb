{
 "cells": [
  {
   "cell_type": "code",
   "execution_count": null,
   "id": "69a0a43d",
   "metadata": {},
   "outputs": [],
   "source": [
    "import albumentations as A"
   ]
  },
  {
   "cell_type": "code",
   "execution_count": null,
   "id": "0da49327",
   "metadata": {},
   "outputs": [],
   "source": [
    "import pandas as pd\n",
    "import numpy as np"
   ]
  },
  {
   "cell_type": "code",
   "execution_count": null,
   "id": "a364dace",
   "metadata": {},
   "outputs": [],
   "source": [
    "import cv2\n",
    "import random"
   ]
  },
  {
   "cell_type": "code",
   "execution_count": null,
   "id": "e0b582ef",
   "metadata": {},
   "outputs": [],
   "source": [
    "def noisy(noise_typ, image):\n",
    "    if noise_typ == \"gauss\":\n",
    "        row,col,ch= image.shape\n",
    "        mean = 0\n",
    "        var = 0.1\n",
    "        sigma = var**0.5\n",
    "        gauss = np.random.normal(mean,sigma,(row,col,ch))\n",
    "        gauss = gauss.reshape(row,col,ch)\n",
    "        noisy = image + gauss\n",
    "        return noisy\n",
    "    elif noise_typ == \"s&p\":\n",
    "        row,col,ch = image.shape\n",
    "        s_vs_p = 0.5\n",
    "        amount = 0.004\n",
    "        out = np.copy(image)\n",
    "          # Salt mode\n",
    "        num_salt = np.ceil(amount * image.size * s_vs_p)\n",
    "        coords = [np.random.randint(0, i - 1, int(num_salt))\n",
    "                for i in image.shape]\n",
    "        out[coords] = 1\n",
    "\n",
    "          # Pepper mode\n",
    "        num_pepper = np.ceil(amount* image.size * (1. - s_vs_p))\n",
    "        coords = [np.random.randint(0, i - 1, int(num_pepper))\n",
    "                for i in image.shape]\n",
    "        out[coords] = 0\n",
    "        return out\n",
    "    elif noise_typ == \"poisson\":\n",
    "        vals = len(np.unique(image))\n",
    "        vals = 2 ** np.ceil(np.log2(vals))\n",
    "        noisy = np.random.poisson(image * vals) / float(vals)\n",
    "        return noisy\n",
    "    elif noise_typ ==\"speckle\":\n",
    "        row,col,ch = image.shape\n",
    "        gauss = np.random.randn(row,col,ch)\n",
    "        gauss = gauss.reshape(row,col,ch)        \n",
    "        noisy = image + image * gauss\n",
    "        return noisy"
   ]
  },
  {
   "cell_type": "code",
   "execution_count": null,
   "id": "93a51b66",
   "metadata": {},
   "outputs": [],
   "source": [
    "path = \"../data/tests\""
   ]
  },
  {
   "cell_type": "code",
   "execution_count": null,
   "id": "23552a9e",
   "metadata": {},
   "outputs": [],
   "source": [
    "#read image\n",
    "image = cv2.imread(path + '/f1/Gerardo_Gambala_0002.jpg')\n",
    "image = cv2.cvtColor(image, cv2.COLOR_BGR2RGB)"
   ]
  },
  {
   "cell_type": "code",
   "execution_count": null,
   "id": "cac974b1",
   "metadata": {},
   "outputs": [],
   "source": [
    "from matplotlib import pyplot as plt\n",
    "noisy_image = noisy(\"poisson\", image)\n",
    "\n",
    "plt.imshow(noisy_image/255)\n",
    "cv2.imwrite(\"noise.jpg\", noisy_image/255)"
   ]
  },
  {
   "cell_type": "code",
   "execution_count": null,
   "id": "144c5afa",
   "metadata": {},
   "outputs": [],
   "source": [
    "transform = A.HorizontalFlip(p=0.5)\n",
    "random.seed(7)\n",
    "augmented_image = transform(image=image)['image']\n",
    "cv2.imwrite(\"../data/tests/f1/res.jpg\", augmented_image)"
   ]
  },
  {
   "cell_type": "code",
   "execution_count": null,
   "id": "9800c52e",
   "metadata": {},
   "outputs": [],
   "source": [
    "rotation_trf = A.Affine(rotate=[90, 90], p=1, mode=cv2.BORDER_CONSTANT, fit_output=True)\n",
    "rotated_img = rotation_trf(image=image)['image']\n",
    "cv2.imwrite(\"../data/tests/f1/rotation.jpg\", rotated_img)"
   ]
  },
  {
   "cell_type": "code",
   "execution_count": null,
   "id": "fadbbf27",
   "metadata": {},
   "outputs": [],
   "source": [
    "affine_trf = A.Affine(always_apply=False, p=1.0, cval = 128)\n",
    "affined_img = affine_trf(image=image)['image']\n",
    "cv2.imwrite(\"../data/tests/f1/affine.jpg\", affined_img)"
   ]
  },
  {
   "cell_type": "code",
   "execution_count": null,
   "id": "383ae09a",
   "metadata": {},
   "outputs": [],
   "source": [
    "brightness_trf = A.ColorJitter(always_apply=False, p=1.0, brightness=0.8)\n",
    "br_img = brightness_trf(image=image)['image']\n",
    "cv2.imwrite(\"../data/tests/f1/brightness.jpg\", br_img)"
   ]
  },
  {
   "cell_type": "code",
   "execution_count": null,
   "id": "6840814f",
   "metadata": {},
   "outputs": [],
   "source": [
    "contrast_trf = A.ColorJitter(always_apply=False, p=1.0, contrast=0.8)\n",
    "cr_img = contrast_trf(image=image)['image']\n",
    "cv2.imwrite(\"../data/tests/f1/contrast.jpg\", cr_img)"
   ]
  },
  {
   "cell_type": "code",
   "execution_count": null,
   "id": "a1754f81",
   "metadata": {},
   "outputs": [],
   "source": [
    "br_ctr = A.ColorJitter(always_apply=False, p=1.0, contrast=0.5,brightness=0.5)\n",
    "br_ctr_img = br_ctr(image=image)['image']\n",
    "cv2.imwrite(\"../data/tests/f1/contrast_brightness.jpg\", br_ctr_img)"
   ]
  },
  {
   "cell_type": "code",
   "execution_count": null,
   "id": "64cebe28",
   "metadata": {},
   "outputs": [],
   "source": [
    "DS = A.Downscale(always_apply=False, p=1.0, scale_min=0.62, scale_max=0.74)\n",
    "ds_img = br_ctr(image=image)['image']\n",
    "cv2.imwrite(\"../data/tests/f1/ds.jpg\", ds_img)"
   ]
  },
  {
   "cell_type": "markdown",
   "id": "800760ad",
   "metadata": {},
   "source": [
    "##  fouiller les dossiers"
   ]
  },
  {
   "cell_type": "code",
   "execution_count": null,
   "id": "241aa5b9",
   "metadata": {},
   "outputs": [],
   "source": [
    "import os"
   ]
  },
  {
   "cell_type": "code",
   "execution_count": null,
   "id": "c81fae19",
   "metadata": {},
   "outputs": [],
   "source": [
    "data_path = \"../data/01_raw/lfw\""
   ]
  },
  {
   "cell_type": "code",
   "execution_count": null,
   "id": "b96b9e5b",
   "metadata": {},
   "outputs": [],
   "source": [
    "subfolders = [f.path for f in os.scandir(data_path) if f.is_dir()]"
   ]
  },
  {
   "cell_type": "code",
   "execution_count": null,
   "id": "4b327a56",
   "metadata": {},
   "outputs": [],
   "source": [
    "subfolders[0:10]"
   ]
  },
  {
   "cell_type": "code",
   "execution_count": null,
   "id": "349db6aa",
   "metadata": {},
   "outputs": [],
   "source": [
    "for f in subfolders:\n",
    "    print(f)"
   ]
  },
  {
   "cell_type": "code",
   "execution_count": null,
   "id": "0aa6da54",
   "metadata": {},
   "outputs": [],
   "source": [
    "images = [i.path for i in os.scandir(subfolders[9]) if i.is_file()]"
   ]
  },
  {
   "cell_type": "code",
   "execution_count": null,
   "id": "8294e20e",
   "metadata": {},
   "outputs": [],
   "source": [
    "images"
   ]
  },
  {
   "cell_type": "markdown",
   "id": "4eac8186",
   "metadata": {},
   "source": [
    "## data augmentation"
   ]
  },
  {
   "cell_type": "code",
   "execution_count": null,
   "id": "e29cd47d",
   "metadata": {},
   "outputs": [],
   "source": [
    "\"text\"+str(1)"
   ]
  },
  {
   "cell_type": "code",
   "execution_count": null,
   "id": "38cf81ee",
   "metadata": {},
   "outputs": [],
   "source": [
    "img = images[0]\n",
    "img.split('/')[-1].split('.')[0]"
   ]
  },
  {
   "cell_type": "code",
   "execution_count": null,
   "id": "fb880a51",
   "metadata": {},
   "outputs": [],
   "source": [
    "import numpy as np"
   ]
  },
  {
   "cell_type": "code",
   "execution_count": null,
   "id": "1e407b72",
   "metadata": {},
   "outputs": [],
   "source": [
    "df =[['file','person']]\n",
    "df"
   ]
  },
  {
   "cell_type": "code",
   "execution_count": null,
   "id": "10c14d23",
   "metadata": {},
   "outputs": [],
   "source": [
    "df.append(['test','test2'])\n",
    "result = np.array(df)\n",
    "result"
   ]
  },
  {
   "cell_type": "code",
   "execution_count": null,
   "id": "2d7ad19a",
   "metadata": {},
   "outputs": [],
   "source": [
    "pd.DataFrame(result, columns = ['file','person'])\n"
   ]
  },
  {
   "cell_type": "code",
   "execution_count": null,
   "id": "ea1478ed",
   "metadata": {},
   "outputs": [],
   "source": []
  },
  {
   "cell_type": "code",
   "execution_count": null,
   "id": "ae9b157f",
   "metadata": {},
   "outputs": [],
   "source": []
  }
 ],
 "metadata": {
  "kernelspec": {
   "display_name": "face-recg",
   "language": "python",
   "name": "python3"
  },
  "language_info": {
   "codemirror_mode": {
    "name": "ipython",
    "version": 3
   },
   "file_extension": ".py",
   "mimetype": "text/x-python",
   "name": "python",
   "nbconvert_exporter": "python",
   "pygments_lexer": "ipython3",
   "version": "3.7.13 (default, Oct 19 2022, 10:19:43) [MSC v.1916 64 bit (AMD64)]"
  },
  "vscode": {
   "interpreter": {
    "hash": "0901814ead37b6538340e5511a060041a4caac431ff84aed4ef798158d8abbd5"
   }
  }
 },
 "nbformat": 4,
 "nbformat_minor": 5
}
